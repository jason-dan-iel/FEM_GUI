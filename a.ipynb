{
 "cells": [
  {
   "cell_type": "code",
   "execution_count": 75,
   "metadata": {},
   "outputs": [],
   "source": [
    "import csv\n",
    "import numpy as np\n",
    "from utils.direct_stiffness import main_ds\n",
    "import pandas as pd\n",
    "import csv\n",
    "import numpy as np"
   ]
  },
  {
   "cell_type": "code",
   "execution_count": 87,
   "metadata": {},
   "outputs": [],
   "source": [
    "\n",
    "\n",
    "# Read the output.csv file\n",
    "with open(\"./output.csv\", 'r', newline='') as file:\n",
    "    reader = csv.reader(file)\n",
    "    data = list(reader)\n",
    "\n",
    "output = [data[0], data[1]]\n",
    "    \n",
    "# Extract column names and node numbers from output\n",
    "column_names = []\n",
    "node_numbers = []\n",
    "for key in output[0]:\n",
    "    column = key[:-1]  # Extracting column name (excluding the last character)\n",
    "    node = key[-1]     # Extracting node number (last character)\n",
    "    column_names.append(column.capitalize())  # Capitalizing column names\n",
    "    node_numbers.append(int(node))\n",
    "\n",
    "# Read the node_data.csv file\n",
    "with open(\"./node_data.csv\", 'r', newline='') as file:\n",
    "    reader = csv.reader(file)\n",
    "    node_data = list(reader)\n",
    "\n",
    "columns = node_data[0]\n",
    "rows = node_data[1:]\n",
    "\n",
    "\n",
    "df = pd.DataFrame(rows, columns=columns)\n",
    "new_columns = ['X', 'Y', 'H', 'V', 'M']\n",
    "for col in new_columns:\n",
    "    df[col] = np.nan\n",
    "\n",
    "# Fill DataFrame with values from output\n",
    "for i in range(len(output[0])):\n",
    "    node_idx = node_numbers[i] - 1  # Adjust index for zero-based indexing\n",
    "    column_name = column_names[i]\n",
    "    value = output[1][i]\n",
    "    df.at[node_idx, column_name] = value\n",
    "\n",
    "df.to_csv(\"node1.csv\", index=False)\n"
   ]
  },
  {
   "cell_type": "code",
   "execution_count": 81,
   "metadata": {},
   "outputs": [
    {
     "data": {
      "text/plain": [
       "(['H1',\n",
       "  'H3',\n",
       "  'M1',\n",
       "  'M3',\n",
       "  'V1',\n",
       "  'V3',\n",
       "  'theta2',\n",
       "  'x2',\n",
       "  'y2',\n",
       "  'x1',\n",
       "  'y1',\n",
       "  'theta1',\n",
       "  'H2',\n",
       "  'M2',\n",
       "  'V2',\n",
       "  'x3',\n",
       "  'y3',\n",
       "  'theta3'],\n",
       " ['-26.2367433463803',\n",
       "  '-18.7632566536197',\n",
       "  '22.7766370171723',\n",
       "  '2.85417303481019',\n",
       "  '-3.00622431528458',\n",
       "  '-1.99377568471543',\n",
       "  '0.0279626840634921',\n",
       "  '8.45308234245022e-5',\n",
       "  '9.59839302235802e-6',\n",
       "  '0.0',\n",
       "  '0.0',\n",
       "  '0.0',\n",
       "  '0.0',\n",
       "  '0.0',\n",
       "  '0.0',\n",
       "  '0.0',\n",
       "  '0.0',\n",
       "  '0.0'])"
      ]
     },
     "execution_count": 81,
     "metadata": {},
     "output_type": "execute_result"
    }
   ],
   "source": [
    "output[0],output[1]"
   ]
  },
  {
   "cell_type": "code",
   "execution_count": null,
   "metadata": {},
   "outputs": [],
   "source": []
  }
 ],
 "metadata": {
  "language_info": {
   "name": "python"
  }
 },
 "nbformat": 4,
 "nbformat_minor": 2
}
